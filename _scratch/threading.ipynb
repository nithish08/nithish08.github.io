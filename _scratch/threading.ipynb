{
  "cells": [
    {
      "cell_type": "markdown",
      "id": "0b8779b1-e7cb-429e-95d5-12ec13eb200d",
      "metadata": {},
      "source": [
        "what are threads?\n",
        "Thread is a separate flow of execution.\n",
        "Due to GIL, only 1 thread can execute python code at a time.\n",
        "\n",
        "what are cores?\n",
        "physical partition in chip.\n",
        "\n",
        "how many threads in a single core?\n",
        "threads do not look to have a physical meaning. they are flow of execution.\n",
        "at a time only 1 thread can be executed by a cpu core.\n",
        "In true sense, 10 cores can run 10 threads in parallel at any single point of time.\n",
        "in general there does not look to be a limit for max threads we can create in python.\n",
        "\n"
      ]
    },
    {
      "cell_type": "code",
      "execution_count": 1,
      "id": "9b8a0d39-96b3-4c4d-a8cf-c3fa9adb3c83",
      "metadata": {},
      "outputs": [],
      "source": [
        "import threading\n",
        "import timeimport os\n",
        "import multiprocessing"
      ]
    },
    {
      "cell_type": "code",
      "execution_count": 2,
      "id": "e60a827b-7fe9-4a01-b527-68508f23eca5",
      "metadata": {},
      "outputs": [
        {
          "data": {
            "text/plain": [
              "8"
            ]
          },
          "execution_count": 2,
          "metadata": {},
          "output_type": "execute_result"
        }
      ],
      "source": [
        "threading.active_count()"
      ]
    },
    {
      "cell_type": "code",
      "execution_count": 29,
      "id": "94c5d29c-3b98-4e3a-a018-6266a50c5a56",
      "metadata": {},
      "outputs": [
        {
          "name": "stdout",
          "output_type": "stream",
          "text": [
            "1\n",
            "A\n",
            "z\n",
            "2\n",
            "B\n",
            "3\n",
            "y\n",
            "4\n",
            "C\n",
            "5\n",
            "D\n",
            "x\n",
            "E\n",
            "Finished!\n"
          ]
        }
      ],
      "source": [
        "def print_numbers():\n",
        "    for i in range(1, 6):\n",
        "        time.sleep(1)\n",
        "        print(i)\n",
        "\n",
        "def print_letters():\n",
        "    for letter in ['A', 'B', 'C', 'D', 'E']:\n",
        "        time.sleep(1.5)\n",
        "        print(letter)\n",
        "\n",
        "def print_random_letters():\n",
        "    for letter in ['z', 'y' ,'x']:\n",
        "        time.sleep(2)\n",
        "        print(letter)\n",
        "\n",
        "# Create threads\n",
        "t1 = threading.Thread(target=print_numbers)\n",
        "t2 = threading.Thread(target=print_letters)\n",
        "t3 = threading.Thread(target=print_random_letters)\n",
        "\n",
        "# Start threads\n",
        "t1.start()\n",
        "t2.start()\n",
        "t3.start()\n",
        "\n",
        "# Wait for both threads to complete\n",
        "t1.join()\n",
        "t2.join()\n",
        "t3.join()\n",
        "\n",
        "print(\"Finished!\")"
      ]
    },
    {
      "cell_type": "code",
      "execution_count": 3,
      "id": "5e51bcf4-0386-4737-9c3b-0e752a746afb",
      "metadata": {},
      "outputs": [
        {
          "name": "stdout",
          "output_type": "stream",
          "text": [
            "Number of CPU cores: 10\n"
          ]
        }
      ],
      "source": [
        "# Get the number of CPU cores\n",
        "cpu_cores = multiprocessing.cpu_count()\n",
        "print(f\"Number of CPU cores: {cpu_cores}\")"
      ]
    },
    {
      "cell_type": "code",
      "execution_count": 7,
      "id": "e2d668f0-569e-4ab2-bb2d-b443f353407e",
      "metadata": {},
      "outputs": [
        {
          "name": "stdout",
          "output_type": "stream",
          "text": [
            "Maximum number of efficient threads: 10\n"
          ]
        }
      ],
      "source": [
        "import os\n",
        "# Get the number of CPU cores\n",
        "max_threads = os.cpu_count()\n",
        "print(f\"Maximum number of efficient threads: {max_threads}\")"
      ]
    }
  ],
  "metadata": {
    "fileHeader": "",
    "fileUid": "4b46057b-24a8-4355-aea4-4cbe708aa3c2",
    "isAdHoc": false,
    "kernelspec": {
      "display_name": "Python 3 (ipykernel)",
      "language": "python",
      "name": "python3"
    },
    "language_info": {
      "codemirror_mode": {
        "name": "ipython",
        "version": 3
      },
      "file_extension": ".py",
      "mimetype": "text/x-python",
      "name": "python",
      "nbconvert_exporter": "python",
      "pygments_lexer": "ipython3",
      "version": "3.12.4"
    }
  }
}
